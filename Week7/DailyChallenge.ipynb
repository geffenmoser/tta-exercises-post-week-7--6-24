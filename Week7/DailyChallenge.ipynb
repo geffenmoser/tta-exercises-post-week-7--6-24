{
  "nbformat": 4,
  "nbformat_minor": 0,
  "metadata": {
    "colab": {
      "provenance": [],
      "include_colab_link": true
    },
    "kernelspec": {
      "name": "python3",
      "display_name": "Python 3"
    },
    "language_info": {
      "name": "python"
    }
  },
  "cells": [
    {
      "cell_type": "markdown",
      "metadata": {
        "id": "view-in-github",
        "colab_type": "text"
      },
      "source": [
        "<a href=\"https://colab.research.google.com/github/geffenmoser/di_tta114_geffen_moser/blob/main/DailyChallenge.ipynb\" target=\"_parent\"><img src=\"https://colab.research.google.com/assets/colab-badge.svg\" alt=\"Open In Colab\"/></a>"
      ]
    },
    {
      "cell_type": "markdown",
      "source": [
        "Summary\n",
        "Walmart, the world's largest retailer, leverages big data analytics to optimize its shopping experience, improve forecasting and inventory management, and enhance personalized recommendations for its customers. The article delves into how Walmart utilizes social media data, mobile analytics, and predictive modeling to drive its business decisions and increase sales.\n",
        "\n",
        "Key Points\n",
        "- Walmart collects and processes massive amounts of data, including 2.5 petabytes of unstructured data from 1 million customers every hour. [0][1][2][3][4]\n",
        "- Walmart uses data mining and association rule learning to discover patterns in customer behavior and sales, such as the correlation between hurricane events and Strawberry pop-tart sales. [10][11]\n",
        "- Walmart tracks and targets individual consumers using extensive customer data, analyzing their online and in-store behavior to provide personalized recommendations. [11][12]\n",
        "- Walmart leverages social media data to identify trending products and introduce them to its stores, and also uses predictive analytics to optimize its shipping policies. [12]\n",
        "- Walmart has developed various big data solutions, including the Social Genome for social media analytics, the Shopycat gift recommendation engine, and predictive analytics for inventory management and checkout process optimization. [13][14][15][16][17][18][19][20]\n",
        "- Walmart is addressing the big data skills gap by hosting Kaggle competitions to crowdsource analytics talent and onboarding new hires through an analytics rotation program. [22][23][24][25][26]"
      ],
      "metadata": {
        "id": "9WTCMppKz-no"
      }
    },
    {
      "cell_type": "markdown",
      "source": [
        "Summary\n",
        "Walmart, the world's largest retailer, leverages big data analytics to optimize its shopping experience, improve forecasting and inventory management, and enhance personalized recommendations for its customers. The article delves into how Walmart utilizes social media data, mobile analytics, and predictive modeling to drive its business decisions and increase sales.\n",
        "\n",
        "Key Points\n",
        "- Walmart collects and processes 2.5 petabytes of unstructured data from 1 million customers every hour, which is equivalent to 167 times the books in the Library of Congress.\n",
        "- Walmart uses data mining and association rule learning to discover patterns in customer behavior, such as the 7-fold increase in Strawberry pop-tart sales before a hurricane.\n",
        "- Walmart tracks and targets 145 million American consumers, of which 60% are U.S. adults, using extensive customer data.\n",
        "- Walmart's mobile app users make 4 more trips and spend 77% more in-store compared to non-mobile users, accounting for 1/3 of Walmart's traffic and 40% during holidays.\n",
        "- Walmart has created a 250-node Hadoop cluster to process its massive amounts of data, and has developed various big data solutions, including:\n",
        "  - Social Genome, which analyzes millions of social media posts to reach customers and their friends\n",
        "  - Shopycat, a gift recommendation engine that uses Facebook data\n",
        "  - Predictive analytics for inventory management and checkout process optimization\n",
        "- Walmart is addressing the big data skills gap by hosting Kaggle competitions to crowdsource analytics talent and onboarding new hires through an analytics rotation program."
      ],
      "metadata": {
        "id": "1XB6ikRe6vyl"
      }
    },
    {
      "cell_type": "code",
      "source": [],
      "metadata": {
        "id": "WrDwLyms6xT-"
      },
      "execution_count": null,
      "outputs": []
    }
  ]
}