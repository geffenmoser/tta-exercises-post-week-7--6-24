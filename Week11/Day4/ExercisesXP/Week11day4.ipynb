{
  "nbformat": 4,
  "nbformat_minor": 0,
  "metadata": {
    "colab": {
      "provenance": [],
      "authorship_tag": "ABX9TyOB4iTVR4IBlJw0l0ItmBvP"
    },
    "kernelspec": {
      "name": "python3",
      "display_name": "Python 3"
    },
    "language_info": {
      "name": "python"
    }
  },
  "cells": [
    {
      "cell_type": "code",
      "execution_count": 4,
      "metadata": {
        "colab": {
          "base_uri": "https://localhost:8080/"
        },
        "id": "bTNhR54Lfa2o",
        "outputId": "b3f67233-21a1-45be-c9c8-d8beadfdce36"
      },
      "outputs": [
        {
          "output_type": "stream",
          "name": "stdout",
          "text": [
            "[[1 8 8]\n",
            " [4 3 9]\n",
            " [7 9 5]]\n",
            "398.0\n",
            "[[-0.16582915  0.08040201  0.12060302]\n",
            " [ 0.1080402  -0.1281407   0.05778894]\n",
            " [ 0.03768844  0.11809045 -0.07286432]]\n"
          ]
        }
      ],
      "source": [
        "#Exercise 1\n",
        "\n",
        "import numpy as np\n",
        "\n",
        "matrix = np.array([[1, 8, 8], [4, 3, 9], [7, 9, 5]])\n",
        "\n",
        "print(matrix)\n",
        "\n",
        "det = np.linalg.det(matrix)\n",
        "\n",
        "print(det)\n",
        "\n",
        "inv_matrix = np.linalg.inv(matrix)\n",
        "\n",
        "print(inv_matrix)\n"
      ]
    },
    {
      "cell_type": "code",
      "source": [
        "#exercise 2\n",
        "random_numbers = np.random.rand(50)\n",
        "\n",
        "mean = np.mean(random_numbers)\n",
        "median = np.median(random_numbers)\n",
        "std_dev = np.std(random_numbers)\n",
        "\n",
        "print(\"Mean:\", mean)\n",
        "print(\"Median:\", median)\n",
        "print(\"Standard Deviation:\", std_dev)"
      ],
      "metadata": {
        "colab": {
          "base_uri": "https://localhost:8080/"
        },
        "id": "PXmtqaoigNhZ",
        "outputId": "a12e3f87-5f3e-4dad-bd2c-f6d8de7dc9d9"
      },
      "execution_count": 5,
      "outputs": [
        {
          "output_type": "stream",
          "name": "stdout",
          "text": [
            "Mean: 0.46054161235103785\n",
            "Median: 0.4263533265823821\n",
            "Standard Deviation: 0.2956772891680141\n"
          ]
        }
      ]
    },
    {
      "cell_type": "code",
      "source": [
        "#exercise 3\n",
        "dates = np.arange('2023-01-01', '2023-02-01', dtype='datetime64[D]')\n",
        "\n",
        "formatted_dates = np.array([np.datetime_as_string(date, unit='D') for date in dates])\n",
        "\n",
        "print(formatted_dates)\n"
      ],
      "metadata": {
        "colab": {
          "base_uri": "https://localhost:8080/"
        },
        "id": "1FUiq5ZQgh4O",
        "outputId": "0251b349-a1a1-4387-f246-35a5c7a9aa21"
      },
      "execution_count": 6,
      "outputs": [
        {
          "output_type": "stream",
          "name": "stdout",
          "text": [
            "['2023-01-01' '2023-01-02' '2023-01-03' '2023-01-04' '2023-01-05'\n",
            " '2023-01-06' '2023-01-07' '2023-01-08' '2023-01-09' '2023-01-10'\n",
            " '2023-01-11' '2023-01-12' '2023-01-13' '2023-01-14' '2023-01-15'\n",
            " '2023-01-16' '2023-01-17' '2023-01-18' '2023-01-19' '2023-01-20'\n",
            " '2023-01-21' '2023-01-22' '2023-01-23' '2023-01-24' '2023-01-25'\n",
            " '2023-01-26' '2023-01-27' '2023-01-28' '2023-01-29' '2023-01-30'\n",
            " '2023-01-31']\n"
          ]
        }
      ]
    },
    {
      "cell_type": "code",
      "source": [
        "#exercise 4\n",
        "import pandas as pd\n",
        "\n",
        "df = pd.DataFrame({'random_numbers': np.random.rand(50)})\n",
        "\n",
        "# Conditional selection (select numbers greater than 0.5)\n",
        "selected_data = df[df['random_numbers'] > 0.5]\n",
        "print(\"Selected Data:\\n\", selected_data)\n",
        "\n",
        "# Aggregation functions\n",
        "sum_of_numbers = df['random_numbers'].sum()\n",
        "average_of_numbers = df['random_numbers'].mean()\n",
        "print(\"Sum of Numbers:\", sum_of_numbers)\n",
        "print(\"Average of Numbers:\", average_of_numbers)"
      ],
      "metadata": {
        "colab": {
          "base_uri": "https://localhost:8080/"
        },
        "id": "oZFcYV6Pg0KN",
        "outputId": "30db51fd-8455-4cc8-f945-a5e17f0bd40d"
      },
      "execution_count": 8,
      "outputs": [
        {
          "output_type": "stream",
          "name": "stdout",
          "text": [
            "Selected Data:\n",
            "     random_numbers\n",
            "0         0.745820\n",
            "1         0.638616\n",
            "2         0.827245\n",
            "3         0.747533\n",
            "4         0.925126\n",
            "6         0.574332\n",
            "8         0.868041\n",
            "11        0.576528\n",
            "13        0.770809\n",
            "15        0.833889\n",
            "18        0.639830\n",
            "20        0.785477\n",
            "23        0.997530\n",
            "28        0.597715\n",
            "30        0.979437\n",
            "31        0.904091\n",
            "33        0.658084\n",
            "35        0.920794\n",
            "37        0.917656\n",
            "38        0.916251\n",
            "39        0.590403\n",
            "42        0.893177\n",
            "48        0.870209\n",
            "Sum of Numbers: 25.566998807018535\n",
            "Average of Numbers: 0.5113399761403707\n"
          ]
        }
      ]
    },
    {
      "cell_type": "code",
      "source": [
        "#exercise 5\n",
        "#This code will generate a 5x5 NumPy array representing a grayscale image. Each value in the array corresponds to a pixel intensity, typically ranging from 0 (black) to 255 (white). In this example, I've used arbitrary values to demonstrate the concept. You can modify these values to create different shades of gray.\n",
        "image = np.array([[100, 120, 140, 160, 180],\n",
        "                  [200, 210, 220, 230, 240],\n",
        "                  [150, 160, 170, 180, 190],\n",
        "                  [80, 90, 100, 110, 120],\n",
        "                  [50, 60, 70, 80, 90]])\n",
        "\n",
        "print(image)"
      ],
      "metadata": {
        "colab": {
          "base_uri": "https://localhost:8080/"
        },
        "id": "v_W-_M2phWty",
        "outputId": "70b359ed-6789-48e4-af09-23a31064c183"
      },
      "execution_count": 9,
      "outputs": [
        {
          "output_type": "stream",
          "name": "stdout",
          "text": [
            "[[100 120 140 160 180]\n",
            " [200 210 220 230 240]\n",
            " [150 160 170 180 190]\n",
            " [ 80  90 100 110 120]\n",
            " [ 50  60  70  80  90]]\n"
          ]
        }
      ]
    },
    {
      "cell_type": "code",
      "source": [
        "#exercise 6\n",
        "\n",
        "from scipy import stats\n",
        "\n",
        "# Productivity scores of employees before the training program\n",
        "productivity_before = np.random.normal(loc=50, scale=10, size=30)\n",
        "\n",
        "# Productivity scores of the same employees after the training program\n",
        "productivity_after = productivity_before + np.random.normal(loc=5, scale=3, size=30)\n",
        "\n",
        "t_stat, p_value = stats.ttest_rel(productivity_before, productivity_after)\n",
        "\n",
        "print(\"T-statistic:\", t_stat)\n",
        "print(\"P-value:\", p_value)\n",
        "\n",
        "# Set significance level (alpha)\n",
        "alpha = 0.05\n",
        "\n",
        "# Compare p-value to alpha\n",
        "if p_value < alpha:\n",
        "    print(\"Reject null hypothesis. The training program has a significant effect on productivity.\")\n",
        "else:\n",
        "    print(\"Fail to reject null hypothesis. The training program does not have a significant effect on productivity.\")\n",
        "\n"
      ],
      "metadata": {
        "colab": {
          "base_uri": "https://localhost:8080/"
        },
        "id": "lY-suXJCh69X",
        "outputId": "8bb552a6-2303-4909-eb50-b367611c92bb"
      },
      "execution_count": 11,
      "outputs": [
        {
          "output_type": "stream",
          "name": "stdout",
          "text": [
            "T-statistic: -8.329085265586537\n",
            "P-value: 3.5090108632066676e-09\n",
            "Reject null hypothesis. The training program has a significant effect on productivity.\n"
          ]
        }
      ]
    },
    {
      "cell_type": "code",
      "source": [
        "#exercise 7\n",
        "\n",
        "array1 = np.array([10, 20, 30, 40, 50])\n",
        "array2 = np.array([15, 18, 35, 38, 55])\n",
        "\n",
        "# Perform element-wise comparison\n",
        "comparison = array1 > array2\n",
        "\n",
        "# Print the boolean array\n",
        "print(comparison)"
      ],
      "metadata": {
        "colab": {
          "base_uri": "https://localhost:8080/"
        },
        "id": "mdXEZjfyiexK",
        "outputId": "161aa5c5-26b8-42c7-9507-058680a81c18"
      },
      "execution_count": 12,
      "outputs": [
        {
          "output_type": "stream",
          "name": "stdout",
          "text": [
            "[False  True False  True False]\n"
          ]
        }
      ]
    },
    {
      "cell_type": "code",
      "source": [
        "#exercise 8\n",
        "\n",
        "dates = pd.date_range(start='2023-01-01', end='2023-12-31', freq='D')\n",
        "ts_data = pd.Series(range(len(dates)), index=dates)\n",
        "\n",
        "january_to_march = ts_data['2023-01-01':'2023-03-31'].count()\n",
        "april_to_june = ts_data['2023-04-01':'2023-06-30'].count()\n",
        "july_to_september = ts_data['2023-07-01':'2023-09-30'].count()\n",
        "october_to_december = ts_data['2023-10-01':'2023-12-31'].count()\n",
        "\n",
        "print(\"January to March:\\n\", january_to_march)\n",
        "print(\"\\nApril to June:\\n\", april_to_june)\n",
        "print(\"\\nJuly to September:\\n\", july_to_september)\n",
        "print(\"\\nOctober to December:\\n\", october_to_december)"
      ],
      "metadata": {
        "colab": {
          "base_uri": "https://localhost:8080/"
        },
        "id": "bD_MrIaZiwWM",
        "outputId": "dd326cbe-31ff-4287-cf9e-bd23e6f9c6fa"
      },
      "execution_count": 14,
      "outputs": [
        {
          "output_type": "stream",
          "name": "stdout",
          "text": [
            "January to March:\n",
            " 90\n",
            "\n",
            "April to June:\n",
            " 91\n",
            "\n",
            "July to September:\n",
            " 92\n",
            "\n",
            "October to December:\n",
            " 92\n"
          ]
        }
      ]
    },
    {
      "cell_type": "code",
      "source": [
        "#exercise9\n",
        "\n",
        "array = np.array([[1, 2, 3], [4, 5, 6], [7, 8, 9]])\n",
        "\n",
        "# Convert NumPy array to Pandas DataFrame\n",
        "df = pd.DataFrame(array)\n",
        "print(\"DataFrame:\\n\", df)\n",
        "\n",
        "# Convert Pandas DataFrame to NumPy array\n",
        "array_converted = df.to_numpy()\n",
        "print(\"\\nNumPy Array:\\n\", array_converted)"
      ],
      "metadata": {
        "colab": {
          "base_uri": "https://localhost:8080/"
        },
        "id": "zXXhRzsIjHA4",
        "outputId": "edf663de-f5a3-4407-fe82-2ec1570235e3"
      },
      "execution_count": 15,
      "outputs": [
        {
          "output_type": "stream",
          "name": "stdout",
          "text": [
            "DataFrame:\n",
            "    0  1  2\n",
            "0  1  2  3\n",
            "1  4  5  6\n",
            "2  7  8  9\n",
            "\n",
            "NumPy Array:\n",
            " [[1 2 3]\n",
            " [4 5 6]\n",
            " [7 8 9]]\n"
          ]
        }
      ]
    },
    {
      "cell_type": "code",
      "source": [
        "#exercise 10\n",
        "\n",
        "import matplotlib.pyplot as plt\n",
        "\n",
        "random_numbers = np.random.rand(50)\n",
        "\n",
        "plt.hist(random_numbers)\n",
        "plt.title('Distribution of Random Numbers')\n",
        "plt.xlabel('Random Number')\n",
        "plt.ylabel('Frequency')\n",
        "\n",
        "plt.show()"
      ],
      "metadata": {
        "colab": {
          "base_uri": "https://localhost:8080/",
          "height": 472
        },
        "id": "2v2nWTQNjcwv",
        "outputId": "cf441ad2-5e81-4671-bece-ad7d8e45a82e"
      },
      "execution_count": 16,
      "outputs": [
        {
          "output_type": "display_data",
          "data": {
            "text/plain": [
              "<Figure size 640x480 with 1 Axes>"
            ],
            "image/png": "[encoded data removed]"
          },
          "metadata": {}
        }
      ]
    }
  ]
}