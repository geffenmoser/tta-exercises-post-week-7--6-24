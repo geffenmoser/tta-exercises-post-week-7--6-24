{
  "metadata": {
    "kernelspec": {
      "language": "python",
      "display_name": "Python 3",
      "name": "python3"
    },
    "language_info": {
      "pygments_lexer": "ipython3",
      "nbconvert_exporter": "python",
      "version": "3.6.4",
      "file_extension": ".py",
      "codemirror_mode": {
        "name": "ipython",
        "version": 3
      },
      "name": "python",
      "mimetype": "text/x-python"
    },
    "kaggle": {
      "accelerator": "none",
      "dataSources": [
        {
          "sourceId": 673,
          "sourceType": "datasetVersion",
          "datasetId": 311
        }
      ],
      "isInternetEnabled": false,
      "language": "python",
      "sourceType": "notebook",
      "isGpuEnabled": false
    },
    "colab": {
      "name": "notebooka0e1415868",
      "provenance": [],
      "include_colab_link": true
    }
  },
  "nbformat_minor": 0,
  "nbformat": 4,
  "cells": [
    {
      "cell_type": "markdown",
      "metadata": {
        "id": "view-in-github",
        "colab_type": "text"
      },
      "source": [
        "<a href=\"https://colab.research.google.com/github/geffenmoser/di_tta114_geffen_moser/blob/main/miniproject%20week%208.ipynb\" target=\"_parent\"><img src=\"https://colab.research.google.com/assets/colab-badge.svg\" alt=\"Open In Colab\"/></a>"
      ]
    },
    {
      "source": [
        "\n",
        "# IMPORTANT: RUN THIS CELL IN ORDER TO IMPORT YOUR KAGGLE DATA SOURCES\n",
        "# TO THE CORRECT LOCATION (/kaggle/input) IN YOUR NOTEBOOK,\n",
        "# THEN FEEL FREE TO DELETE THIS CELL.\n",
        "# NOTE: THIS NOTEBOOK ENVIRONMENT DIFFERS FROM KAGGLE'S PYTHON\n",
        "# ENVIRONMENT SO THERE MAY BE MISSING LIBRARIES USED BY YOUR\n",
        "# NOTEBOOK.\n",
        "\n",
        "import os\n",
        "import sys\n",
        "from tempfile import NamedTemporaryFile\n",
        "from urllib.request import urlopen\n",
        "from urllib.parse import unquote, urlparse\n",
        "from urllib.error import HTTPError\n",
        "from zipfile import ZipFile\n",
        "import tarfile\n",
        "import shutil\n",
        "\n",
        "CHUNK_SIZE = 40960\n",
        "DATA_SOURCE_MAPPING = 'mental-health-in-tech-survey:https%3A%2F%2Fstorage.googleapis.com%2Fkaggle-data-sets%2F311%2F673%2Fbundle%2Farchive.zip%3FX-Goog-Algorithm%3DGOOG4-RSA-SHA256%26X-Goog-Credential%3Dgcp-kaggle-com%2540kaggle-161607.iam.gserviceaccount.com%252F20240618%252Fauto%252Fstorage%252Fgoog4_request%26X-Goog-Date%3D20240618T155543Z%26X-Goog-Expires%3D259200%26X-Goog-SignedHeaders%3Dhost%26X-Goog-Signature%3D902fc3491494b28b5cd5cbe5e385b267b44179119969be48467eb0a475549e26e2a9fc7f07c63068a6de73c4890472181190f21720d4e8beaf50f3567067a76f190fb0d51c129870f9dc09e976879a5bb781aac8ecdf5cc8c293bb7e26636289d4b3344e3b0dc72f39a12fbf9c547c76e4608cf6d197a805309e945ca045731b2558b723b64fd6c54eea2acce19ecd0c833813f024f9ce260776c82c1fbe25ade0b5e0ad74e0eba926399562b6b0bd507419a9eb71ce420b680f2428ba46f80a337fbb7c1c0491fd22ea2abe5593b24568ad1c9425907d8cbcd369f7c82c93d131b309c39157e029aa645f93b39a49ee2dd4071daba9d5e9630e01e53b80ef8e'\n",
        "\n",
        "KAGGLE_INPUT_PATH='/kaggle/input'\n",
        "KAGGLE_WORKING_PATH='/kaggle/working'\n",
        "KAGGLE_SYMLINK='kaggle'\n",
        "\n",
        "!umount /kaggle/input/ 2> /dev/null\n",
        "shutil.rmtree('/kaggle/input', ignore_errors=True)\n",
        "os.makedirs(KAGGLE_INPUT_PATH, 0o777, exist_ok=True)\n",
        "os.makedirs(KAGGLE_WORKING_PATH, 0o777, exist_ok=True)\n",
        "\n",
        "try:\n",
        "  os.symlink(KAGGLE_INPUT_PATH, os.path.join(\"..\", 'input'), target_is_directory=True)\n",
        "except FileExistsError:\n",
        "  pass\n",
        "try:\n",
        "  os.symlink(KAGGLE_WORKING_PATH, os.path.join(\"..\", 'working'), target_is_directory=True)\n",
        "except FileExistsError:\n",
        "  pass\n",
        "\n",
        "for data_source_mapping in DATA_SOURCE_MAPPING.split(','):\n",
        "    directory, download_url_encoded = data_source_mapping.split(':')\n",
        "    download_url = unquote(download_url_encoded)\n",
        "    filename = urlparse(download_url).path\n",
        "    destination_path = os.path.join(KAGGLE_INPUT_PATH, directory)\n",
        "    try:\n",
        "        with urlopen(download_url) as fileres, NamedTemporaryFile() as tfile:\n",
        "            total_length = fileres.headers['content-length']\n",
        "            print(f'Downloading {directory}, {total_length} bytes compressed')\n",
        "            dl = 0\n",
        "            data = fileres.read(CHUNK_SIZE)\n",
        "            while len(data) > 0:\n",
        "                dl += len(data)\n",
        "                tfile.write(data)\n",
        "                done = int(50 * dl / int(total_length))\n",
        "                sys.stdout.write(f\"\\r[{'=' * done}{' ' * (50-done)}] {dl} bytes downloaded\")\n",
        "                sys.stdout.flush()\n",
        "                data = fileres.read(CHUNK_SIZE)\n",
        "            if filename.endswith('.zip'):\n",
        "              with ZipFile(tfile) as zfile:\n",
        "                zfile.extractall(destination_path)\n",
        "            else:\n",
        "              with tarfile.open(tfile.name) as tarfile:\n",
        "                tarfile.extractall(destination_path)\n",
        "            print(f'\\nDownloaded and uncompressed: {directory}')\n",
        "    except HTTPError as e:\n",
        "        print(f'Failed to load (likely expired) {download_url} to path {destination_path}')\n",
        "        continue\n",
        "    except OSError as e:\n",
        "        print(f'Failed to load {download_url} to path {destination_path}')\n",
        "        continue\n",
        "\n",
        "print('Data source import complete.')\n"
      ],
      "metadata": {
        "id": "3GN6nQ26D7lm",
        "outputId": "a113d0f8-975b-4eb6-e8b8-db7b01c581e0",
        "colab": {
          "base_uri": "https://localhost:8080/"
        }
      },
      "cell_type": "code",
      "outputs": [
        {
          "output_type": "stream",
          "name": "stdout",
          "text": [
            "Downloading mental-health-in-tech-survey, 49930 bytes compressed\n",
            "[==================================================] 49930 bytes downloaded\n",
            "Downloaded and uncompressed: mental-health-in-tech-survey\n",
            "Data source import complete.\n"
          ]
        }
      ],
      "execution_count": 1
    },
    {
      "cell_type": "code",
      "source": [
        "# This Python 3 environment comes with many helpful analytics libraries installed\n",
        "# It is defined by the kaggle/python Docker image: https://github.com/kaggle/docker-python\n",
        "# For example, here's several helpful packages to load\n",
        "\n",
        "import numpy as np # linear algebra\n",
        "import pandas as pd # data processing, CSV file I/O (e.g. pd.read_csv)\n",
        "\n",
        "# Input data files are available in the read-only \"../input/\" directory\n",
        "# For example, running this (by clicking run or pressing Shift+Enter) will list all files under the input directory\n",
        "\n",
        "import os\n",
        "for dirname, _, filenames in os.walk('/kaggle/input'):\n",
        "    for filename in filenames:\n",
        "        print(os.path.join(dirname, filename))\n",
        "\n",
        "# You can write up to 20GB to the current directory (/kaggle/working/) that gets preserved as output when you create a version using \"Save & Run All\"\n",
        "# You can also write temporary files to /kaggle/temp/, but they won't be saved outside of the current session"
      ],
      "metadata": {
        "_uuid": "8f2839f25d086af736a60e9eeb907d3b93b6e0e5",
        "_cell_guid": "b1076dfc-b9ad-4769-8c92-a6c4dae69d19",
        "trusted": true,
        "id": "xRHjV9LSD7lp",
        "outputId": "50cf9c69-2658-41ef-e293-051124a41312",
        "colab": {
          "base_uri": "https://localhost:8080/"
        }
      },
      "execution_count": 2,
      "outputs": [
        {
          "output_type": "stream",
          "name": "stdout",
          "text": [
            "/kaggle/input/mental-health-in-tech-survey/survey.csv\n"
          ]
        }
      ]
    },
    {
      "cell_type": "code",
      "source": [
        "mh_data = pd.read_csv('/kaggle/input/mental-health-in-tech-survey/survey.csv')\n",
        "\n",
        "# Explore the dataset\n",
        "print(mh_data.head())\n",
        "print(mh_data.info())"
      ],
      "metadata": {
        "id": "sqjAXKiyFgI-",
        "outputId": "df08b70f-4c55-4361-c3de-92c9f3cb6726",
        "colab": {
          "base_uri": "https://localhost:8080/"
        }
      },
      "execution_count": 3,
      "outputs": [
        {
          "output_type": "stream",
          "name": "stdout",
          "text": [
            "             Timestamp  Age  Gender         Country state self_employed  \\\n",
            "0  2014-08-27 11:29:31   37  Female   United States    IL           NaN   \n",
            "1  2014-08-27 11:29:37   44       M   United States    IN           NaN   \n",
            "2  2014-08-27 11:29:44   32    Male          Canada   NaN           NaN   \n",
            "3  2014-08-27 11:29:46   31    Male  United Kingdom   NaN           NaN   \n",
            "4  2014-08-27 11:30:22   31    Male   United States    TX           NaN   \n",
            "\n",
            "  family_history treatment work_interfere    no_employees  ...  \\\n",
            "0             No       Yes          Often            6-25  ...   \n",
            "1             No        No         Rarely  More than 1000  ...   \n",
            "2             No        No         Rarely            6-25  ...   \n",
            "3            Yes       Yes          Often          26-100  ...   \n",
            "4             No        No          Never         100-500  ...   \n",
            "\n",
            "                leave mental_health_consequence phys_health_consequence  \\\n",
            "0       Somewhat easy                        No                      No   \n",
            "1          Don't know                     Maybe                      No   \n",
            "2  Somewhat difficult                        No                      No   \n",
            "3  Somewhat difficult                       Yes                     Yes   \n",
            "4          Don't know                        No                      No   \n",
            "\n",
            "      coworkers supervisor mental_health_interview phys_health_interview  \\\n",
            "0  Some of them        Yes                      No                 Maybe   \n",
            "1            No         No                      No                    No   \n",
            "2           Yes        Yes                     Yes                   Yes   \n",
            "3  Some of them         No                   Maybe                 Maybe   \n",
            "4  Some of them        Yes                     Yes                   Yes   \n",
            "\n",
            "  mental_vs_physical obs_consequence comments  \n",
            "0                Yes              No      NaN  \n",
            "1         Don't know              No      NaN  \n",
            "2                 No              No      NaN  \n",
            "3                 No             Yes      NaN  \n",
            "4         Don't know              No      NaN  \n",
            "\n",
            "[5 rows x 27 columns]\n",
            "<class 'pandas.core.frame.DataFrame'>\n",
            "RangeIndex: 1259 entries, 0 to 1258\n",
            "Data columns (total 27 columns):\n",
            " #   Column                     Non-Null Count  Dtype \n",
            "---  ------                     --------------  ----- \n",
            " 0   Timestamp                  1259 non-null   object\n",
            " 1   Age                        1259 non-null   int64 \n",
            " 2   Gender                     1259 non-null   object\n",
            " 3   Country                    1259 non-null   object\n",
            " 4   state                      744 non-null    object\n",
            " 5   self_employed              1241 non-null   object\n",
            " 6   family_history             1259 non-null   object\n",
            " 7   treatment                  1259 non-null   object\n",
            " 8   work_interfere             995 non-null    object\n",
            " 9   no_employees               1259 non-null   object\n",
            " 10  remote_work                1259 non-null   object\n",
            " 11  tech_company               1259 non-null   object\n",
            " 12  benefits                   1259 non-null   object\n",
            " 13  care_options               1259 non-null   object\n",
            " 14  wellness_program           1259 non-null   object\n",
            " 15  seek_help                  1259 non-null   object\n",
            " 16  anonymity                  1259 non-null   object\n",
            " 17  leave                      1259 non-null   object\n",
            " 18  mental_health_consequence  1259 non-null   object\n",
            " 19  phys_health_consequence    1259 non-null   object\n",
            " 20  coworkers                  1259 non-null   object\n",
            " 21  supervisor                 1259 non-null   object\n",
            " 22  mental_health_interview    1259 non-null   object\n",
            " 23  phys_health_interview      1259 non-null   object\n",
            " 24  mental_vs_physical         1259 non-null   object\n",
            " 25  obs_consequence            1259 non-null   object\n",
            " 26  comments                   164 non-null    object\n",
            "dtypes: int64(1), object(26)\n",
            "memory usage: 265.7+ KB\n",
            "None\n"
          ]
        }
      ]
    },
    {
      "cell_type": "code",
      "source": [
        "missing_data = mh_data.isnull()\n",
        "print(missing_data.head())\n",
        "\n",
        "\n",
        "missing_counts = mh_data.isnull().sum()\n",
        "print(missing_counts)\n",
        "\n",
        "\n",
        "import matplotlib.pyplot as plt\n",
        "from sklearn.preprocessing import MinMaxScaler\n",
        "\n",
        "scaler = MinMaxScaler()\n",
        "mh_data['Age_normalized'] = scaler.fit_transform(mh_data[['Age']])\n",
        "print(mh_data['Age_normalized'].head())"
      ],
      "metadata": {
        "id": "mafJrNV4IJ2v",
        "outputId": "ecd44990-16f4-447f-9a05-bbbcc0e759da",
        "colab": {
          "base_uri": "https://localhost:8080/"
        }
      },
      "execution_count": 4,
      "outputs": [
        {
          "output_type": "stream",
          "name": "stdout",
          "text": [
            "   Timestamp    Age  Gender  Country  state  self_employed  family_history  \\\n",
            "0      False  False   False    False  False           True           False   \n",
            "1      False  False   False    False  False           True           False   \n",
            "2      False  False   False    False   True           True           False   \n",
            "3      False  False   False    False   True           True           False   \n",
            "4      False  False   False    False  False           True           False   \n",
            "\n",
            "   treatment  work_interfere  no_employees  ...  leave  \\\n",
            "0      False           False         False  ...  False   \n",
            "1      False           False         False  ...  False   \n",
            "2      False           False         False  ...  False   \n",
            "3      False           False         False  ...  False   \n",
            "4      False           False         False  ...  False   \n",
            "\n",
            "   mental_health_consequence  phys_health_consequence  coworkers  supervisor  \\\n",
            "0                      False                    False      False       False   \n",
            "1                      False                    False      False       False   \n",
            "2                      False                    False      False       False   \n",
            "3                      False                    False      False       False   \n",
            "4                      False                    False      False       False   \n",
            "\n",
            "   mental_health_interview  phys_health_interview  mental_vs_physical  \\\n",
            "0                    False                  False               False   \n",
            "1                    False                  False               False   \n",
            "2                    False                  False               False   \n",
            "3                    False                  False               False   \n",
            "4                    False                  False               False   \n",
            "\n",
            "   obs_consequence  comments  \n",
            "0            False      True  \n",
            "1            False      True  \n",
            "2            False      True  \n",
            "3            False      True  \n",
            "4            False      True  \n",
            "\n",
            "[5 rows x 27 columns]\n",
            "Timestamp                       0\n",
            "Age                             0\n",
            "Gender                          0\n",
            "Country                         0\n",
            "state                         515\n",
            "self_employed                  18\n",
            "family_history                  0\n",
            "treatment                       0\n",
            "work_interfere                264\n",
            "no_employees                    0\n",
            "remote_work                     0\n",
            "tech_company                    0\n",
            "benefits                        0\n",
            "care_options                    0\n",
            "wellness_program                0\n",
            "seek_help                       0\n",
            "anonymity                       0\n",
            "leave                           0\n",
            "mental_health_consequence       0\n",
            "phys_health_consequence         0\n",
            "coworkers                       0\n",
            "supervisor                      0\n",
            "mental_health_interview         0\n",
            "phys_health_interview           0\n",
            "mental_vs_physical              0\n",
            "obs_consequence                 0\n",
            "comments                     1095\n",
            "dtype: int64\n",
            "0    1.763000e-08\n",
            "1    1.770000e-08\n",
            "2    1.758000e-08\n",
            "3    1.757000e-08\n",
            "4    1.757000e-08\n",
            "Name: Age_normalized, dtype: float64\n"
          ]
        }
      ]
    },
    {
      "cell_type": "code",
      "source": [
        "mh_data.drop([\"comments\", \"state\"], axis = 1, inplace = True)"
      ],
      "metadata": {
        "id": "8wNcYOb8MqV9"
      },
      "execution_count": 6,
      "outputs": []
    },
    {
      "cell_type": "code",
      "source": [
        "\n",
        "\n",
        "import matplotlib.pyplot as plt\n",
        "\n",
        "age_groups = []\n",
        "yes_responses = []\n",
        "\n",
        "for i in range(10, 90, 10):\n",
        "  age_group = f\"{i}-{i+9}\"\n",
        "  age_groups.append(age_group)\n",
        "\n",
        "  # Filter data for the current age group\n",
        "  filtered_data = mh_data[(mh_data['Age'] >= i) & (mh_data['Age'] < i+10)]\n",
        "\n",
        "  # Count the number of \"Yes\" responses for treatment\n",
        "  yes_count = filtered_data['treatment'].value_counts().get(\"Yes\", 0)\n",
        "  yes_responses.append(yes_count)\n",
        "\n",
        "plt.bar(age_groups, yes_responses)\n",
        "plt.xlabel(\"Age Group\")\n",
        "plt.ylabel(\"Number of Yes Responses\")\n",
        "plt.title(\"Number of Yes Responses to Treatment by Age Group\")\n",
        "plt.show()\n"
      ],
      "metadata": {
        "id": "pCLckYCNWKBD",
        "outputId": "08b77722-b6a0-46fb-80b1-153656f64bd7",
        "colab": {
          "base_uri": "https://localhost:8080/",
          "height": 472
        }
      },
      "execution_count": 23,
      "outputs": [
        {
          "output_type": "display_data",
          "data": {
            "text/plain": [
              "<Figure size 640x480 with 1 Axes>"
            ],
            "image/png": "[encoded data removed]"
          },
          "metadata": {}
        }
      ]
    },
    {
      "cell_type": "code",
      "source": [
        "genders = []\n",
        "yes_responses = []\n",
        "\n",
        "mh_data['Gender'] = mh_data['Gender'].replace(['m', 'male', 'Male ', 'M', 'Man', 'cis male', 'Cis Male',\n",
        "                                                'Cis Man', 'Make', 'Male (CIS)', 'Malr', 'msle', 'Mail', 'Mal',\n",
        "                                                'maile'], 'Male')\n",
        "mh_data['Gender'] = mh_data['Gender'].replace(['f', 'female', 'Female ', 'F', 'Woman', 'woman', 'Female (cis)',\n",
        "                                                'cis-female/femme', 'Cis Female', 'femail', 'Femake'], 'Female')\n",
        "\n",
        "filtered_data = mh_data[mh_data['Gender'].isin([\"Male\", \"Female\"])]\n",
        "\n",
        "genders = filtered_data['Gender'].unique()\n",
        "yes_responses = []\n",
        "\n",
        "for gender in genders:\n",
        "    # Filter data for the current gender\n",
        "    gender_data = filtered_data[filtered_data['Gender'] == gender]\n",
        "\n",
        "    # Count the number of \"Yes\" responses for treatment\n",
        "    yes_count = gender_data['treatment'].value_counts().get(\"Yes\", 0)\n",
        "    yes_responses.append(yes_count)\n",
        "\n",
        "plt.bar(genders, yes_responses)\n",
        "plt.xlabel(\"Gender\")\n",
        "plt.ylabel(\"Number of Yes Responses\")\n",
        "plt.title(\"Number of Yes Responses to Treatment by Gender\")\n",
        "plt.show()\n"
      ],
      "metadata": {
        "id": "tDqpcHX0XIU6",
        "outputId": "5a8b02ce-df42-43bb-a280-2a2f6eb72877",
        "colab": {
          "base_uri": "https://localhost:8080/",
          "height": 472
        }
      },
      "execution_count": 30,
      "outputs": [
        {
          "output_type": "display_data",
          "data": {
            "text/plain": [
              "<Figure size 640x480 with 1 Axes>"
            ],
            "image/png": "[encoded data removed]"
          },
          "metadata": {}
        }
      ]
    },
    {
      "cell_type": "code",
      "source": [
        "country_counts = mh_data[mh_data['treatment'] == 'Yes']['Country'].value_counts()\n",
        "\n",
        "highest_country = country_counts.index[0]\n",
        "highest_count = country_counts.iloc[0]\n",
        "\n",
        "lowest_country = country_counts.index[-1]\n",
        "lowest_count = country_counts.iloc[-1]\n",
        "\n",
        "print(f\"Country with highest 'Yes' responses: {highest_country} ({highest_count})\")\n",
        "print(f\"Country with lowest 'Yes' responses: {lowest_country} ({lowest_count})\")"
      ],
      "metadata": {
        "id": "bow2y9XKYkdW",
        "outputId": "d1136a30-5edf-4009-cb49-5e68da4b57ac",
        "colab": {
          "base_uri": "https://localhost:8080/"
        }
      },
      "execution_count": 31,
      "outputs": [
        {
          "output_type": "stream",
          "name": "stdout",
          "text": [
            "Country with highest 'Yes' responses: United States (410)\n",
            "Country with lowest 'Yes' responses: Finland (1)\n"
          ]
        }
      ]
    }
  ]
}